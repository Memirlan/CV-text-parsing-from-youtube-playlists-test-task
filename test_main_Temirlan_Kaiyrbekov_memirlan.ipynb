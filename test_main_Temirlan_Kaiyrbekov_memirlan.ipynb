{
 "cells": [
  {
   "cell_type": "markdown",
   "id": "f4272090-114a-4d7b-bd11-673bcc85cff0",
   "metadata": {},
   "source": [
    "# В этом ноутбуке предоставлены идеи и результаты решения тестового задания по компьютерному зрения Темирлана Кайырбекова (tg: @memirlan)\n",
    "# Прошу учесть, что хоть и можно было бы сделать намного больше, я сделал что мог и это произошло за один сеанс и за одну ночь. Как упомянал в резюме и анкете, сейчас я загружен фуллтайм работой будучи аналитиком данных и учебой в университете и хотелось бы показать класс (наполнить этот проект нейронкой, оптимизровать контейнеризацией, почистить весь процесс и др.). Тем не менее, надеюсь некоторые моменты отсюда сойдутся Вам интересными.\n",
    "# Лично я нашел много интересного и полезного в ходе проекта.\n",
    "# Так же, прикреплю к сабмишну краткое письмо. Спасибо за внимание :)"
   ]
  },
  {
   "cell_type": "code",
   "execution_count": null,
   "id": "dbd7b64a-08e4-4e21-ab69-d37b4e9c09c7",
   "metadata": {},
   "outputs": [],
   "source": []
  },
  {
   "cell_type": "code",
   "execution_count": null,
   "id": "166aaa20-531b-4c16-9124-f40386ebc7ea",
   "metadata": {},
   "outputs": [],
   "source": []
  },
  {
   "cell_type": "code",
   "execution_count": null,
   "id": "1f19710a-ea16-425c-9189-cb852ca10100",
   "metadata": {},
   "outputs": [],
   "source": []
  },
  {
   "cell_type": "markdown",
   "id": "4d991884-7c38-4fba-9ea6-a0e51eb067e6",
   "metadata": {},
   "source": [
    "# Решение (идейное):\n",
    "- Вытянуть ссылки на видео с плейлистов\n",
    "- Ссылки на все видео передать на скачивание\n",
    "- Разбить все видео на фреймы с интервалом в 3 сек. (т.к. всплыывающие окна в видео висят минимум 3 сек.): записывать фрейм индекс которых кратный 75 (1 sec = 25 frames). Это объясняю ниже\n",
    "- Разметить нужные фреймы (с окнами с текстом) и скормить их либо в \"полноценную\" сеть, либо по принципу one-shot/few-shot learning'а\n",
    "- С помощью модели вытащить все фреймы с \"полезной\" инфой\n",
    "- Спарсить текст с полезных фреймов через tesseract\n",
    "- Провести очистку через regex или что либо еще"
   ]
  },
  {
   "cell_type": "markdown",
   "id": "5fc061b2-394f-49ea-90f1-0b01f6ea758b",
   "metadata": {},
   "source": [
    "# Результат:\n",
    "- получилось вытащить ссылки на все видео при указании ссылки на плейлист в ютубе\n",
    "- получилось скачивать видео с ютуба по ссылке с указанием конкретных фильтров для стрима\n",
    "- получилось разбить видео на фреймы с указанием интервала по фреймам (и времени)\n",
    "- получилось вытащить текста с фреймов используя tesseract и написать для этого функцию\n",
    "\n",
    "- ошибки при использовании библиотеки pytube (выдается еррор/кернел не интерраптится и приходится рестартить)\n",
    "- отсутствие нейронной сети для оптимизации процесса поиска нужных фреймов. Тут не хватило времени"
   ]
  },
  {
   "cell_type": "code",
   "execution_count": 1,
   "id": "c6f08829-3d0f-456c-8b06-3a2f76a0d1b4",
   "metadata": {},
   "outputs": [
    {
     "name": "stdout",
     "output_type": "stream",
     "text": [
      "Requirement already satisfied: pillow in c:\\users\\temirlan\\miniconda3\\lib\\site-packages (9.0.1)\n",
      "Note: you may need to restart the kernel to use updated packages.\n"
     ]
    }
   ],
   "source": [
    "# pip install pillow"
   ]
  },
  {
   "cell_type": "code",
   "execution_count": 1,
   "id": "839ffeef-4433-45ea-a930-f77be240f9c3",
   "metadata": {},
   "outputs": [
    {
     "name": "stdout",
     "output_type": "stream",
     "text": [
      "Requirement already satisfied: pytesseract in c:\\users\\temirlan\\miniconda3\\lib\\site-packages (0.3.10)\n",
      "Requirement already satisfied: packaging>=21.3 in c:\\users\\temirlan\\miniconda3\\lib\\site-packages (from pytesseract) (21.3)\n",
      "Requirement already satisfied: Pillow>=8.0.0 in c:\\users\\temirlan\\miniconda3\\lib\\site-packages (from pytesseract) (9.0.1)\n",
      "Requirement already satisfied: pyparsing!=3.0.5,>=2.0.2 in c:\\users\\temirlan\\miniconda3\\lib\\site-packages (from packaging>=21.3->pytesseract) (3.0.7)\n",
      "Note: you may need to restart the kernel to use updated packages.\n"
     ]
    }
   ],
   "source": [
    "# pip install pytesseract"
   ]
  },
  {
   "cell_type": "code",
   "execution_count": 1,
   "id": "f7a5bb47-7cca-451d-a3ef-48f8a5527e3e",
   "metadata": {},
   "outputs": [],
   "source": [
    "import cv2"
   ]
  },
  {
   "cell_type": "code",
   "execution_count": 2,
   "id": "ad97ef0c-85c1-493d-9040-4df3b89cd612",
   "metadata": {},
   "outputs": [
    {
     "name": "stdout",
     "output_type": "stream",
     "text": [
      "4.7.0\n"
     ]
    }
   ],
   "source": [
    "print(cv2. __version__)"
   ]
  },
  {
   "cell_type": "code",
   "execution_count": 8,
   "id": "5d3f3d35-2f3d-4033-a1a6-304beb13eac8",
   "metadata": {},
   "outputs": [
    {
     "data": {
      "text/html": [
       "\n",
       "        <iframe\n",
       "            width=\"800\"\n",
       "            height=\"600\"\n",
       "            src=\"https://www.youtube.com/embed/dQw4w9WgXc\"\n",
       "            frameborder=\"0\"\n",
       "            allowfullscreen\n",
       "            \n",
       "        ></iframe>\n",
       "        "
      ],
      "text/plain": [
       "<IPython.lib.display.YouTubeVideo at 0x296b5b63af0>"
      ]
     },
     "execution_count": 9,
     "metadata": {},
     "output_type": "execute_result"
    }
   ],
   "source": [
    "from IPython.display import YouTubeVideo\n",
    "YouTubeVideo('dQw4w9WgXcQ', width=800, height = 600)"
   ]
  },
  {
   "cell_type": "markdown",
   "id": "63b20f81-feaf-4431-8a84-74a3d9337cd1",
   "metadata": {},
   "source": [
    "## Пробую отображать видео со своего файла"
   ]
  },
  {
   "cell_type": "code",
   "execution_count": 7,
   "id": "ec449789-b443-446d-9a70-3ece706a9c71",
   "metadata": {},
   "outputs": [],
   "source": [
    "# cap = cv2.VideoCapture(r'C:\\Users\\Temirlan\\Downloads\\Susovan Ghosh vs Weerachai S Chaipirom.mp4')"
   ]
  },
  {
   "cell_type": "code",
   "execution_count": 3,
   "id": "993088ca-b320-48ae-a7ea-5f78f5b435eb",
   "metadata": {},
   "outputs": [],
   "source": [
    "# import numpy as np\n",
    "# import cv2 as cv\n",
    "# cap = cv.VideoCapture(r'C:\\Users\\Temirlan\\Desktop\\Jupyter Docs\\CV test task\\Susovan Ghosh vs Weerachai S Chaipirom.mp4')\n",
    "# while cap.isOpened():\n",
    "#     ret, frame = cap.read()\n",
    "#     # if frame is read correctly ret is True\n",
    "#     if not ret:\n",
    "#         print(\"Can't receive frame (stream end?). Exiting ...\")\n",
    "#         break\n",
    "#     gray = cv.cvtColor(frame, cv.COLOR_BGR2GRAY)\n",
    "#     cv.imshow('frame', gray)\n",
    "#     if cv.waitKey() == ord('q'):\n",
    "#         break\n",
    "# cap.release()\n",
    "# cv.destroyAllWindows()"
   ]
  },
  {
   "cell_type": "markdown",
   "id": "3a4721b9-749a-465a-8966-e03361926415",
   "metadata": {
    "tags": []
   },
   "source": [
    "# Чтение видео с ютуба"
   ]
  },
  {
   "cell_type": "code",
   "execution_count": 3,
   "id": "568f1692-72d1-4f95-8fd3-0c9d31006239",
   "metadata": {},
   "outputs": [
    {
     "name": "stdout",
     "output_type": "stream",
     "text": [
      "Collecting pytube\n",
      "  Using cached pytube-12.1.2-py3-none-any.whl (57 kB)\n",
      "Installing collected packages: pytube\n",
      "Successfully installed pytube-12.1.2\n",
      "Note: you may need to restart the kernel to use updated packages.\n"
     ]
    }
   ],
   "source": [
    "# pip install pytube"
   ]
  },
  {
   "cell_type": "code",
   "execution_count": 3,
   "id": "81cbfb8c-025d-480f-9115-e42fbf172373",
   "metadata": {},
   "outputs": [],
   "source": [
    "import pytube"
   ]
  },
  {
   "cell_type": "code",
   "execution_count": 2,
   "id": "0310a7a8-f094-4c55-afc5-ea769d268420",
   "metadata": {},
   "outputs": [
    {
     "name": "stdout",
     "output_type": "stream",
     "text": [
      "12.1.2\n"
     ]
    }
   ],
   "source": [
    "print(pytube.__version__)"
   ]
  },
  {
   "cell_type": "markdown",
   "id": "04c57b39-92b6-467f-b5e4-c30542501da9",
   "metadata": {},
   "source": [
    "## Можно создавать \"плейлист\" объекты и вытаскивать все ссылки оттуда, а по ссылкам же дальше можно скачивать сами видео"
   ]
  },
  {
   "cell_type": "code",
   "execution_count": 4,
   "id": "127ace1f-3089-426d-a5e3-f7f53bd1cf06",
   "metadata": {},
   "outputs": [],
   "source": [
    "from pytube import Playlist"
   ]
  },
  {
   "cell_type": "code",
   "execution_count": 5,
   "id": "5010904d-695e-4743-b0ed-a6f2ba90155c",
   "metadata": {},
   "outputs": [
    {
     "name": "stdout",
     "output_type": "stream",
     "text": [
      "['https://www.youtube.com/watch?v=bDyQf2soS8w', 'https://www.youtube.com/watch?v=w6bcU3C7vJ4', 'https://www.youtube.com/watch?v=zKJVOIKkh78', 'https://www.youtube.com/watch?v=tXO7PmlNUZ4', 'https://www.youtube.com/watch?v=1JrlJfrQmhA', 'https://www.youtube.com/watch?v=kBXDv_pBG6o', 'https://www.youtube.com/watch?v=k9SI19Sngi8', 'https://www.youtube.com/watch?v=4t59bOFrv98', 'https://www.youtube.com/watch?v=xcg_Y4DrmbQ', 'https://www.youtube.com/watch?v=KtZK1PLZTnE', 'https://www.youtube.com/watch?v=5sq4szwouXo', 'https://www.youtube.com/watch?v=Ip93-nqUnlU', 'https://www.youtube.com/watch?v=qFae7x9i-w4']\n"
     ]
    },
    {
     "data": {
      "text/plain": [
       "13"
      ]
     },
     "execution_count": 5,
     "metadata": {},
     "output_type": "execute_result"
    }
   ],
   "source": [
    "pl = Playlist('https://www.youtube.com/playlist?list=PLukHrO2gJzOoWizPv3Rx5lk46ehXjPZUk')\n",
    "\n",
    "playlist1 = pl.video_urls\n",
    "print(playlist1)\n",
    "\n",
    "len(playlist1)\n"
   ]
  },
  {
   "cell_type": "code",
   "execution_count": null,
   "id": "c0bc8752-9f7f-478c-bb0c-1bb18f04a251",
   "metadata": {},
   "outputs": [
    {
     "name": "stdout",
     "output_type": "stream",
     "text": [
      "Скачал видео со стримом: <Stream: itag=\"22\" mime_type=\"video/mp4\" res=\"720p\" fps=\"25fps\" vcodec=\"avc1.64001F\" acodec=\"mp4a.40.2\" progressive=\"True\" type=\"video\">\n",
      "Скачал видео со стримом: <Stream: itag=\"22\" mime_type=\"video/mp4\" res=\"720p\" fps=\"25fps\" vcodec=\"avc1.64001F\" acodec=\"mp4a.40.2\" progressive=\"True\" type=\"video\">\n",
      "Скачал видео со стримом: <Stream: itag=\"22\" mime_type=\"video/mp4\" res=\"720p\" fps=\"25fps\" vcodec=\"avc1.64001F\" acodec=\"mp4a.40.2\" progressive=\"True\" type=\"video\">\n"
     ]
    }
   ],
   "source": [
    "# from pytube import YouTube \n",
    "  \n",
    "# #where to save \n",
    "# SAVE_PATH = r'C:\\Users\\Temirlan\\Desktop\\Jupyter docs\\CV test task' #to_do\n",
    "\n",
    "# #link of the video to be downloaded \n",
    "# link = pl.video_urls\n",
    "\n",
    "# for i in link: \n",
    "#     try: \n",
    "          \n",
    "#         # object creation using YouTube\n",
    "#         # which was imported in the beginning \n",
    "#         yt = YouTube(i) \n",
    "#     except: \n",
    "          \n",
    "#         #to handle exception \n",
    "#         print(\"Connection Error\") \n",
    "\n",
    "#     #filters out all the files with \"mp4\" extension \n",
    "#     mp4files = yt.streams.filter(progressive = True, file_extension = 'mp4') \n",
    "\n",
    "#     # get the video with the extension and\n",
    "#     # resolution passed in the get() function \n",
    "#     # d_video = yt.streams.get(mp4files[-1].extension,mp4files[-1].resolution) \n",
    "#     try: \n",
    "#         # downloading the video \n",
    "#         mp4files[-1].download(SAVE_PATH)\n",
    "#         print(f'Скачал видео со стримом: {mp4files[-1]}') \n",
    "#     except: \n",
    "#         print(\"Some Error!\") \n",
    "# print('Task Completed!') "
   ]
  },
  {
   "cell_type": "markdown",
   "id": "23133198-c46d-43e5-bc90-4ff81f89e714",
   "metadata": {
    "tags": []
   },
   "source": [
    "## тут я уже интерраптнул кернел, т.к. по непонятной причине (возможно защита винды от флуда или ограничения со стороны ютуба) загрузка тормозится или выдается ошибка: [WinError 10054] Удаленный хост принудительно разорвал существующее подключение"
   ]
  },
  {
   "cell_type": "code",
   "execution_count": 6,
   "id": "4947d69b-a75b-4af8-93b8-1674dea546c0",
   "metadata": {},
   "outputs": [
    {
     "data": {
      "text/plain": [
       "[<Stream: itag=\"18\" mime_type=\"video/mp4\" res=\"360p\" fps=\"25fps\" vcodec=\"avc1.42001E\" acodec=\"mp4a.40.2\" progressive=\"True\" type=\"video\">, <Stream: itag=\"22\" mime_type=\"video/mp4\" res=\"720p\" fps=\"25fps\" vcodec=\"avc1.64001F\" acodec=\"mp4a.40.2\" progressive=\"True\" type=\"video\">]"
      ]
     },
     "execution_count": 6,
     "metadata": {},
     "output_type": "execute_result"
    }
   ],
   "source": [
    "# mp4files"
   ]
  },
  {
   "cell_type": "code",
   "execution_count": 7,
   "id": "6d33250c-7981-457d-87e3-5f664cbe2f74",
   "metadata": {},
   "outputs": [
    {
     "data": {
      "text/plain": [
       "'C:\\\\Users\\\\Temirlan\\\\Downloads\\\\Susovan Ghosh vs Weerachai S Chaipirom.mp4'"
      ]
     },
     "execution_count": 7,
     "metadata": {},
     "output_type": "execute_result"
    }
   ],
   "source": [
    "# mp4files[-1].download(SAVE_PATH)"
   ]
  },
  {
   "cell_type": "code",
   "execution_count": 41,
   "id": "d7faef3c-1906-4fc5-9da4-3114603dd73f",
   "metadata": {},
   "outputs": [
    {
     "data": {
      "text/plain": [
       "'720p'"
      ]
     },
     "execution_count": 41,
     "metadata": {},
     "output_type": "execute_result"
    }
   ],
   "source": [
    "# mp4files[-1].resolution"
   ]
  },
  {
   "cell_type": "code",
   "execution_count": 6,
   "id": "1d71f836-8645-4f22-9437-5a9af2390aac",
   "metadata": {},
   "outputs": [],
   "source": [
    "from pytube import YouTube \n",
    "  \n",
    "#where to save \n",
    "SAVE_PATH = r'C:\\Users\\Temirlan\\Desktop\\Jupyter docs\\CV test task' #to_do"
   ]
  },
  {
   "cell_type": "code",
   "execution_count": 7,
   "id": "36411625-c5e4-4e10-8664-8ce8718f3780",
   "metadata": {},
   "outputs": [],
   "source": [
    "filenames = []"
   ]
  },
  {
   "cell_type": "markdown",
   "id": "954d2b70-07e9-40bd-aa62-5458f3766e45",
   "metadata": {},
   "source": [
    "## Функция для скачивания видео по ссылке"
   ]
  },
  {
   "cell_type": "code",
   "execution_count": 8,
   "id": "b298d414-df1d-4b14-a906-7af7c9a2b660",
   "metadata": {},
   "outputs": [],
   "source": [
    "# скачивание видео пачкой выдавало ошибки, поэтому лучше наверное пройтись по одному\n",
    "def vidos_download(URL):\n",
    "    try:\n",
    "        # object creation using YouTube\n",
    "        # which was imported in the beginning \n",
    "        yt = YouTube(URL) \n",
    "    except:\n",
    "        #to handle exception \n",
    "        print(\"Connection Error\")\n",
    "        \n",
    "    #filters out all the files with \"mp4\" extension \n",
    "    mp4files = yt.streams.filter(progressive = True, file_extension = 'mp4')\n",
    "    \n",
    "    try: \n",
    "        # downloading the video \n",
    "        mp4files[-1].download(SAVE_PATH)\n",
    "        filenames.append(mp4files[-1].default_filename)\n",
    "        print(f'Скачал видео {mp4files[-1].default_filename} и записал в filenames')\n",
    "        print(f'Скачал видео со стримом: {mp4files[-1]}') \n",
    "    except: \n",
    "        print(\"Some Error!\")\n",
    "    \n",
    "    print('Task Completed!')"
   ]
  },
  {
   "cell_type": "markdown",
   "id": "a1a4aa64-2e75-4253-ba83-6d9419b7a235",
   "metadata": {},
   "source": [
    "## Выглядит глупо, конечно, но прогнать все ссылки по лупу не получилось: выдавалась ошибка описанная выше. Мог бы скачать видео отдельно через savefromnet, но думал воспользоваться функцией чтобы хотя бы до краша кернела скачать по возможности больше"
   ]
  },
  {
   "cell_type": "code",
   "execution_count": 8,
   "id": "6040b7be-1aa5-4fde-8fd4-5861c8033eb8",
   "metadata": {},
   "outputs": [
    {
     "name": "stdout",
     "output_type": "stream",
     "text": [
      "Скачал видео Susovan Ghosh vs Weerachai S Chaipirom.mp4 и записал в filenames\n",
      "Скачал видео со стримом: <Stream: itag=\"22\" mime_type=\"video/mp4\" res=\"720p\" fps=\"25fps\" vcodec=\"avc1.64001F\" acodec=\"mp4a.40.2\" progressive=\"True\" type=\"video\">\n",
      "Task Completed!\n"
     ]
    }
   ],
   "source": [
    "# vidos_download(playlist1[0])"
   ]
  },
  {
   "cell_type": "code",
   "execution_count": null,
   "id": "3caa266f-25aa-4df7-8cf8-61fb7ad893fb",
   "metadata": {},
   "outputs": [],
   "source": [
    "# vidos_download(playlist1[1])"
   ]
  },
  {
   "cell_type": "code",
   "execution_count": 14,
   "id": "724888ce-1ecc-45d9-8731-fb11baf09dff",
   "metadata": {},
   "outputs": [
    {
     "name": "stdout",
     "output_type": "stream",
     "text": [
      "Скачал видео Yodsaenkrai S  Kanjana vs Leonardo Cassoti.mp4 и записал в filenames\n",
      "Скачал видео со стримом: <Stream: itag=\"22\" mime_type=\"video/mp4\" res=\"720p\" fps=\"25fps\" vcodec=\"avc1.64001F\" acodec=\"mp4a.40.2\" progressive=\"True\" type=\"video\">\n",
      "Task Completed!\n"
     ]
    }
   ],
   "source": [
    "# vidos_download(playlist1[2])"
   ]
  },
  {
   "cell_type": "code",
   "execution_count": 15,
   "id": "c17d10d7-c96a-4586-afd8-f9ce707467b4",
   "metadata": {},
   "outputs": [
    {
     "name": "stdout",
     "output_type": "stream",
     "text": [
      "Скачал видео Akshata Khadtare vs Phet Siam S  Kanjana.mp4 и записал в filenames\n",
      "Скачал видео со стримом: <Stream: itag=\"22\" mime_type=\"video/mp4\" res=\"720p\" fps=\"25fps\" vcodec=\"avc1.64001F\" acodec=\"mp4a.40.2\" progressive=\"True\" type=\"video\">\n",
      "Task Completed!\n"
     ]
    }
   ],
   "source": [
    "# vidos_download(playlist1[3])"
   ]
  },
  {
   "cell_type": "code",
   "execution_count": 16,
   "id": "55bf9205-3788-44f7-88d5-38e5f6273a3c",
   "metadata": {},
   "outputs": [
    {
     "name": "stdout",
     "output_type": "stream",
     "text": [
      "Скачал видео Aditya Sanil vs Mehrdad Molai Kordshooli.mp4 и записал в filenames\n",
      "Скачал видео со стримом: <Stream: itag=\"22\" mime_type=\"video/mp4\" res=\"720p\" fps=\"25fps\" vcodec=\"avc1.64001F\" acodec=\"mp4a.40.2\" progressive=\"True\" type=\"video\">\n",
      "Task Completed!\n"
     ]
    }
   ],
   "source": [
    "# vidos_download(playlist1[4])"
   ]
  },
  {
   "cell_type": "code",
   "execution_count": 17,
   "id": "7dc4688a-b4a7-4229-b5c9-f141adcaf317",
   "metadata": {},
   "outputs": [
    {
     "name": "stdout",
     "output_type": "stream",
     "text": [
      "Скачал видео Kaenphet Rawai Boxing vs Andrey Chelbaev.mp4 и записал в filenames\n",
      "Скачал видео со стримом: <Stream: itag=\"22\" mime_type=\"video/mp4\" res=\"720p\" fps=\"25fps\" vcodec=\"avc1.64001F\" acodec=\"mp4a.40.2\" progressive=\"True\" type=\"video\">\n",
      "Task Completed!\n"
     ]
    }
   ],
   "source": [
    "# vidos_download(playlist1[5])"
   ]
  },
  {
   "cell_type": "code",
   "execution_count": 18,
   "id": "a7175289-fb7e-4087-865b-f4c6f1e96e57",
   "metadata": {},
   "outputs": [
    {
     "name": "stdout",
     "output_type": "stream",
     "text": [
      "Скачал видео Suntichai S Sakchai vs Egor Kostyuchenko.mp4 и записал в filenames\n",
      "Скачал видео со стримом: <Stream: itag=\"22\" mime_type=\"video/mp4\" res=\"720p\" fps=\"25fps\" vcodec=\"avc1.64001F\" acodec=\"mp4a.40.2\" progressive=\"True\" type=\"video\">\n",
      "Task Completed!\n"
     ]
    }
   ],
   "source": [
    "# vidos_download(playlist1[6])"
   ]
  },
  {
   "cell_type": "code",
   "execution_count": 19,
   "id": "373421e2-6ba8-423c-9c5d-77bb4e2aac5e",
   "metadata": {},
   "outputs": [
    {
     "name": "stdout",
     "output_type": "stream",
     "text": [
      "Скачал видео Suyash Jadhav vs Oliver Axelsson.mp4 и записал в filenames\n",
      "Скачал видео со стримом: <Stream: itag=\"22\" mime_type=\"video/mp4\" res=\"720p\" fps=\"25fps\" vcodec=\"avc1.64001F\" acodec=\"mp4a.40.2\" progressive=\"True\" type=\"video\">\n",
      "Task Completed!\n"
     ]
    }
   ],
   "source": [
    "# vidos_download(playlist1[7])"
   ]
  },
  {
   "cell_type": "code",
   "execution_count": 20,
   "id": "a33cc3e1-a4f3-4ad2-8869-df1dd2a408d7",
   "metadata": {},
   "outputs": [
    {
     "name": "stdout",
     "output_type": "stream",
     "text": [
      "Скачал видео Spartacus MMA Fights 8 Thailand Phuket Free fight Johngir Qurbonazazoda vs Elias Kopp.mp4 и записал в filenames\n",
      "Скачал видео со стримом: <Stream: itag=\"22\" mime_type=\"video/mp4\" res=\"720p\" fps=\"25fps\" vcodec=\"avc1.64001F\" acodec=\"mp4a.40.2\" progressive=\"True\" type=\"video\">\n",
      "Task Completed!\n"
     ]
    }
   ],
   "source": [
    "# vidos_download(playlist1[8])"
   ]
  },
  {
   "cell_type": "code",
   "execution_count": null,
   "id": "c2f562fc-6cb8-4937-9b1d-015129a98bda",
   "metadata": {},
   "outputs": [],
   "source": [
    "# vidos_download(playlist1[9])"
   ]
  },
  {
   "cell_type": "code",
   "execution_count": null,
   "id": "542a03ef-1ccf-408f-b168-5fa9e3c8002f",
   "metadata": {},
   "outputs": [],
   "source": [
    "# vidos_download(playlist1[10])"
   ]
  },
  {
   "cell_type": "code",
   "execution_count": null,
   "id": "8ee55825-ac8d-4659-bebf-2105e4cf0abc",
   "metadata": {},
   "outputs": [],
   "source": [
    "# vidos_download(playlist1[11])"
   ]
  },
  {
   "cell_type": "code",
   "execution_count": null,
   "id": "b7c1cb8e-901e-4f1e-ade5-e5623dd4896b",
   "metadata": {},
   "outputs": [],
   "source": [
    "# vidos_download(playlist1[12])"
   ]
  },
  {
   "cell_type": "code",
   "execution_count": null,
   "id": "1dc764ed-efda-4be9-9133-f35423553835",
   "metadata": {},
   "outputs": [],
   "source": [
    "# vidos_download(playlist1[13])"
   ]
  },
  {
   "cell_type": "code",
   "execution_count": 30,
   "id": "b23070b3-ccb8-4791-9c6a-009ca77bb7d3",
   "metadata": {},
   "outputs": [
    {
     "data": {
      "text/plain": [
       "[]"
      ]
     },
     "execution_count": 30,
     "metadata": {},
     "output_type": "execute_result"
    }
   ],
   "source": [
    "filenames"
   ]
  },
  {
   "cell_type": "markdown",
   "id": "3ecc15af-152b-42da-a53b-436fd1a3e26a",
   "metadata": {},
   "source": [
    "## Кернел не интеррпатится. Приходится каждый раз рестартить. Возможно нужно почитать документации прошлых версий этой библиотеки или покопаться больше в разрешениях винды"
   ]
  },
  {
   "cell_type": "markdown",
   "id": "2af1bd9e-2d52-4b4f-b3a3-cb22ed39f5fd",
   "metadata": {},
   "source": [
    "## Проблема этой функции (точнее библотеки) в том, что она часто прерывается и не получается прогнать цикл полностью. Если функция застревают и скачивание не идет, то ячейку даже не интеррпатится. Поэтому решил вытащитиь текст с последнего видео, а эту функцию и наработки оставить так"
   ]
  },
  {
   "cell_type": "markdown",
   "id": "5aea9886-3305-4dc3-b508-7665ff9c6277",
   "metadata": {
    "tags": []
   },
   "source": [
    "# Деление видео на фреймы"
   ]
  },
  {
   "cell_type": "code",
   "execution_count": 10,
   "id": "8a91e3f4-25ba-4149-8fc1-c273d682768c",
   "metadata": {},
   "outputs": [
    {
     "name": "stdout",
     "output_type": "stream",
     "text": [
      "Скачал видео Kayque De Paula Pereira vs Wanderson Veloso.mp4 и записал в filenames\n",
      "Скачал видео со стримом: <Stream: itag=\"22\" mime_type=\"video/mp4\" res=\"720p\" fps=\"25fps\" vcodec=\"avc1.64001F\" acodec=\"mp4a.40.2\" progressive=\"True\" type=\"video\">\n",
      "Task Completed!\n"
     ]
    }
   ],
   "source": [
    "# target video\n",
    "vidos_download('https://www.youtube.com/watch?v=byl-_DM5kgs&ab_channel=SpartacusMMA')"
   ]
  },
  {
   "cell_type": "markdown",
   "id": "85c44150-9745-4fac-990f-6577f566fad3",
   "metadata": {},
   "source": [
    "# Тут взял фреймы, нумерация которых кратно 75, т.к. в видео все важные окна всплывают на как минимум 3 секунды. В ютубе по дефолту (и по описанию скачанных стримов выше) fps = 25, и за 3 секунды набираются 75 фреймов. Таким образом, не приходится скачивать все фреймы подряд оставляя только самое достаточное"
   ]
  },
  {
   "cell_type": "code",
   "execution_count": 11,
   "id": "899222d7-42df-4e44-b8c3-207712739e30",
   "metadata": {},
   "outputs": [],
   "source": [
    "capture = cv2.VideoCapture(r'C:\\Users\\Temirlan\\Desktop\\Jupyter docs\\CV test task\\Kayque De Paula Pereira vs Wanderson Veloso.mp4')\n",
    " \n",
    "frameNr = 0\n",
    " \n",
    "while (True):\n",
    " \n",
    "    success, frame = capture.read()\n",
    "# тут взял фреймы, нумерация которых кратно 75, т.к. в видео все важные окна всплывают на как минимум 3 секунды. В ютубе по дефолту (и по описанию скачанных стримов выше)\n",
    "# fps = 25, и за 3 секунды набираются 75 фреймов. Таким образом, не приходится скачивать все фреймы подряд оставляя только самое достаточное\n",
    "    if success:\n",
    "        if (frameNr % 75 == 0):\n",
    "            cv2.imwrite(f'C:\\\\Users\\\\Temirlan\\\\Desktop\\\\Jupyter docs\\\\CV test task\\\\frame_{frameNr}.jpg', frame)\n",
    "        cv2.waitKey(0)\n",
    " \n",
    "    else:\n",
    "        break\n",
    " \n",
    "    frameNr = frameNr+1\n",
    " \n",
    "capture.release()"
   ]
  },
  {
   "cell_type": "markdown",
   "id": "a0d4f304-eb77-49f4-ae8a-8bbb58032153",
   "metadata": {},
   "source": [
    "## По итогу, вместо ~35k фреймов, вытащил ~460 которых вполне достаточно. Это явно ускорит обучение и оптимизирует memory allocation"
   ]
  },
  {
   "cell_type": "markdown",
   "id": "79b435bb-c418-41e9-bd24-1fa0a95df5cf",
   "metadata": {},
   "source": [
    "# Экстракция текста"
   ]
  },
  {
   "cell_type": "code",
   "execution_count": 9,
   "id": "02e07179-8917-40a1-8efb-0ced0ce77979",
   "metadata": {},
   "outputs": [],
   "source": [
    "from PIL import Image\n",
    "import pytesseract"
   ]
  },
  {
   "cell_type": "code",
   "execution_count": 10,
   "id": "f0d8a838-4e4d-472e-b2fa-9e03d7b4810d",
   "metadata": {},
   "outputs": [],
   "source": [
    "# pip install tesseract"
   ]
  },
  {
   "cell_type": "code",
   "execution_count": 11,
   "id": "1d6d9319-10ed-4d7f-80c2-fbdde823b759",
   "metadata": {},
   "outputs": [],
   "source": [
    "pytesseract.pytesseract.tesseract_cmd = 'C:\\\\Program Files\\\\Tesseract-OCR\\\\tesseract'"
   ]
  },
  {
   "cell_type": "code",
   "execution_count": 12,
   "id": "9acb6ea7-79c8-4fee-80f7-8d219430fc6f",
   "metadata": {},
   "outputs": [],
   "source": [
    "screen = Image.open(r'C:\\Users\\Temirlan\\Desktop\\Jupyter docs\\CV test task\\frame_1725.jpg')"
   ]
  },
  {
   "cell_type": "code",
   "execution_count": 13,
   "id": "b1a59ec8-4775-45a0-8958-bffe6f607138",
   "metadata": {},
   "outputs": [],
   "source": [
    "text = pytesseract.image_to_string(screen, lang = 'eng')"
   ]
  },
  {
   "cell_type": "code",
   "execution_count": 14,
   "id": "3bdf999c-3d6d-4685-ad9a-730dd64f6cf1",
   "metadata": {},
   "outputs": [
    {
     "data": {
      "text/plain": [
       "'WANDERSON\\nSANTOS\\n\\nBRAZIL\\n'"
      ]
     },
     "execution_count": 14,
     "metadata": {},
     "output_type": "execute_result"
    }
   ],
   "source": [
    "text"
   ]
  },
  {
   "cell_type": "code",
   "execution_count": 15,
   "id": "2db98f3d-8528-4169-9302-55b3081affe5",
   "metadata": {},
   "outputs": [],
   "source": [
    "text_list = []"
   ]
  },
  {
   "cell_type": "code",
   "execution_count": 16,
   "id": "4bb7d408-3fee-4139-ab8b-339964197527",
   "metadata": {},
   "outputs": [],
   "source": [
    "def extract_text(frame_name):\n",
    "    text_list.append(pytesseract.image_to_string(Image.open(r'C:\\Users\\Temirlan\\Desktop\\Jupyter docs\\CV test task\\{}.jpg'.format(frame_name)), lang = 'eng'))"
   ]
  },
  {
   "cell_type": "code",
   "execution_count": 17,
   "id": "6bea4137-3969-4933-865c-49dc58497217",
   "metadata": {},
   "outputs": [],
   "source": [
    "for i in ('frame_600', 'frame_1050', 'frame_1725', 'frame_3600', 'frame_16500', 'frame_27900', 'frame_32850'):\n",
    "    extract_text(i)"
   ]
  },
  {
   "cell_type": "code",
   "execution_count": 18,
   "id": "89bae3a1-3638-409b-b3d1-ac386aa1e66e",
   "metadata": {},
   "outputs": [
    {
     "data": {
      "text/plain": [
       "['PIRAL BRAZIL\\n\\nRECORD 2-0-0\\n\\nKAYQUE\\nDE P\\n\\n== Ea eee\\n',\n",
       " '',\n",
       " 'WANDERSON\\nSANTOS\\n\\nBRAZIL\\n',\n",
       " 'WANDERSON SANTOS 3:57 7 KAYQUE DE PAULA\\n\\n',\n",
       " '',\n",
       " 'KAYQUE DE PAULA\\n\\nWANDERSON SANTOS\\n\\n',\n",
       " '']"
      ]
     },
     "execution_count": 18,
     "metadata": {},
     "output_type": "execute_result"
    }
   ],
   "source": [
    "text_list"
   ]
  },
  {
   "cell_type": "code",
   "execution_count": 19,
   "id": "fa31f345-4a17-4ab8-8347-cc898923190c",
   "metadata": {},
   "outputs": [],
   "source": [
    "import json"
   ]
  },
  {
   "cell_type": "code",
   "execution_count": 20,
   "id": "9196c84b-89b2-4faf-84b4-aa3bb0e1a24e",
   "metadata": {},
   "outputs": [],
   "source": [
    "jsonString = json.dumps(text_list)"
   ]
  },
  {
   "cell_type": "code",
   "execution_count": 21,
   "id": "90057a64-11a9-4bb5-befc-9f18bf033dae",
   "metadata": {},
   "outputs": [],
   "source": [
    "save_file = open(\"file_res.json\", \"w\")  \n",
    "json.dump(jsonString, save_file, indent = 6)  \n",
    "save_file.close() "
   ]
  },
  {
   "cell_type": "markdown",
   "id": "af2d0037-531c-4295-a473-bcc33952b5d7",
   "metadata": {},
   "source": [
    "# End of task"
   ]
  }
 ],
 "metadata": {
  "kernelspec": {
   "display_name": "Python 3 (ipykernel)",
   "language": "python",
   "name": "python3"
  },
  "language_info": {
   "codemirror_mode": {
    "name": "ipython",
    "version": 3
   },
   "file_extension": ".py",
   "mimetype": "text/x-python",
   "name": "python",
   "nbconvert_exporter": "python",
   "pygments_lexer": "ipython3",
   "version": "3.9.12"
  }
 },
 "nbformat": 4,
 "nbformat_minor": 5
}
